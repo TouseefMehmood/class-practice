{
 "cells": [
  {
   "cell_type": "code",
   "execution_count": 1,
   "metadata": {},
   "outputs": [],
   "source": [
    "class Dog():\n",
    "    #characteristics/attributes/properties\n",
    "    #in programing variable honge\n",
    "    name = \"pappi\"\n",
    "    age = 5\n",
    "    breed = \"german\"\n",
    "    color = \"brown\"\n",
    "    #behaviours/actions >>>method/functions\n",
    "    def bark():\n",
    "        pass\n",
    "    def walk():\n",
    "        pass\n",
    "    def rollover():\n",
    "        pass\n",
    "    def bite():\n",
    "        pass"
   ]
  },
  {
   "cell_type": "code",
   "execution_count": 2,
   "metadata": {},
   "outputs": [],
   "source": [
    "dog1 = Dog()"
   ]
  },
  {
   "cell_type": "code",
   "execution_count": 13,
   "metadata": {},
   "outputs": [],
   "source": [
    "\n",
    "class Dog():\n",
    "    #characteristics/attributes/properties\n",
    "    #in programing variable honge\n",
    "    def __init__(self, name, age, breed,color):\n",
    "        self.dogname=name\n",
    "        self.dogage=age\n",
    "        self.dogbreed=breed\n",
    "        self.color=color\n",
    "        print(\"dog create hogaya\")\n",
    "      #behaviours/actions >>>method/functions\n",
    "    def bark():\n",
    "        pass\n",
    "    def walk():\n",
    "        pass\n",
    "    def rollover():\n",
    "        pass\n",
    "    def bite():\n",
    "        pass"
   ]
  },
  {
   "cell_type": "code",
   "execution_count": 14,
   "metadata": {},
   "outputs": [
    {
     "name": "stdout",
     "output_type": "stream",
     "text": [
      "dog create hogaya\n"
     ]
    }
   ],
   "source": [
    "dog1=Dog(\"tisen\",5,\"sheferd\",\"brown\")"
   ]
  },
  {
   "cell_type": "code",
   "execution_count": 15,
   "metadata": {},
   "outputs": [
    {
     "data": {
      "text/plain": [
       "'brown'"
      ]
     },
     "execution_count": 15,
     "metadata": {},
     "output_type": "execute_result"
    }
   ],
   "source": [
    "dog1.color"
   ]
  },
  {
   "cell_type": "code",
   "execution_count": 47,
   "metadata": {},
   "outputs": [],
   "source": [
    "class Dog():\n",
    "    #characteristics/attributes/properties\n",
    "    #in programing variable honge\n",
    "    tail = 'sedhi'\n",
    "    def __init__(self, name, age, breed,color):\n",
    "        self.dogname=name\n",
    "        self.dogage=age\n",
    "        self.dogbreed=breed\n",
    "        self.color=color\n",
    "        print(\"dog create hogaya\")\n",
    "    def bark(self):\n",
    "        print(f\"{self.dogname} is barking \")\n",
    "   "
   ]
  },
  {
   "cell_type": "code",
   "execution_count": 48,
   "metadata": {},
   "outputs": [
    {
     "name": "stdout",
     "output_type": "stream",
     "text": [
      "dog create hogaya\n"
     ]
    }
   ],
   "source": [
    "dog3=Dog(name=\"tiger\", age=4, breed=\"american\", color=\"black\")"
   ]
  },
  {
   "cell_type": "code",
   "execution_count": 46,
   "metadata": {},
   "outputs": [
    {
     "name": "stdout",
     "output_type": "stream",
     "text": [
      "tiger is barking \n"
     ]
    }
   ],
   "source": [
    "dog3.bark()"
   ]
  },
  {
   "cell_type": "code",
   "execution_count": null,
   "metadata": {},
   "outputs": [],
   "source": []
  },
  {
   "cell_type": "code",
   "execution_count": null,
   "metadata": {},
   "outputs": [],
   "source": [
    "class Dog():\n",
    "    #characteristics/attributes/properties\n",
    "    #in programing variable honge\n",
    "    def __init__(self, name, age, breed,color):\n",
    "        self.dogname=name\n",
    "        self.dogage=age\n",
    "        self.dogbreed=breed\n",
    "        self.color=color\n",
    "        print(\"dog create hogaya\")\n",
    "    def bark(self):\n",
    "        print(f\"{self.dogname} is barking \")\n",
    "   "
   ]
  },
  {
   "cell_type": "code",
   "execution_count": 38,
   "metadata": {},
   "outputs": [],
   "source": [
    "class human():\n",
    "    def __init__(self, name, age, gender, blood_group, height):\n",
    "        self.name=name\n",
    "        self.age=age\n",
    "        self.gender=gender\n",
    "        self.blood_group=blood_group\n",
    "        self.height=height\n",
    "        print(\"human object is created\")\n",
    "    def speak(self):\n",
    "        print(f\"{self.name} is speaking\")\n",
    "    def listening(self):\n",
    "        print(f\"{self.name} is listning\")\n",
    "    \n",
    "        "
   ]
  },
  {
   "cell_type": "code",
   "execution_count": 39,
   "metadata": {},
   "outputs": [
    {
     "name": "stdout",
     "output_type": "stream",
     "text": [
      "human object is created\n"
     ]
    }
   ],
   "source": [
    "human1=human(name=\"abdul moiz\", age=24, gender=\"male\", height=5.6, blood_group=\"A+ve\")"
   ]
  },
  {
   "cell_type": "code",
   "execution_count": 45,
   "metadata": {},
   "outputs": [
    {
     "name": "stdout",
     "output_type": "stream",
     "text": [
      "abdul moiz is speaking\n"
     ]
    }
   ],
   "source": [
    "human1.speak()"
   ]
  },
  {
   "cell_type": "code",
   "execution_count": 50,
   "metadata": {},
   "outputs": [],
   "source": [
    "class student():\n",
    "    def __init__(self, name, roll_num, clas):\n",
    "        self.name=name\n",
    "        self.roll_num=roll_num\n",
    "        self.clas=clas\n",
    "        print(\"object is created\")\n",
    "    def attandance(self):\n",
    "        print(f\"{self.name} is punctual in class\")\n",
    "    def behaviour(self):\n",
    "        print(f\"{self.name} behaviour is good\")\n",
    "        "
   ]
  },
  {
   "cell_type": "code",
   "execution_count": 51,
   "metadata": {},
   "outputs": [
    {
     "name": "stdout",
     "output_type": "stream",
     "text": [
      "object is created\n"
     ]
    }
   ],
   "source": [
    "std = student(name=\"abdul moiz\", roll_num= \"bb_5028\", clas=\"bscs\")"
   ]
  },
  {
   "cell_type": "code",
   "execution_count": 52,
   "metadata": {},
   "outputs": [
    {
     "data": {
      "text/plain": [
       "'abdul moiz'"
      ]
     },
     "execution_count": 52,
     "metadata": {},
     "output_type": "execute_result"
    }
   ],
   "source": [
    "std.name"
   ]
  },
  {
   "cell_type": "code",
   "execution_count": 57,
   "metadata": {},
   "outputs": [],
   "source": [
    "class employ():\n",
    "    def __init__(self, name, id_s, grade):\n",
    "        self.name=name\n",
    "        self.id_s=id_s\n",
    "        self.grade=grade\n",
    "        print(\"object is created\")\n",
    "    def attandance(self):\n",
    "        print(f\"{self.name} is punctual in office\")\n",
    "    def behaviour(self):\n",
    "        print(f\"{self.name} behaviour is good\")\n",
    "        "
   ]
  },
  {
   "cell_type": "code",
   "execution_count": 60,
   "metadata": {},
   "outputs": [
    {
     "name": "stdout",
     "output_type": "stream",
     "text": [
      "object is created\n"
     ]
    }
   ],
   "source": [
    "emp1=employ(name=\"moiz\", id_s=\"bb215728\", grade=\"hsg-i\" )"
   ]
  },
  {
   "cell_type": "code",
   "execution_count": 62,
   "metadata": {},
   "outputs": [
    {
     "data": {
      "text/plain": [
       "'moiz'"
      ]
     },
     "execution_count": 62,
     "metadata": {},
     "output_type": "execute_result"
    }
   ],
   "source": [
    "emp1.name"
   ]
  },
  {
   "cell_type": "code",
   "execution_count": 63,
   "metadata": {},
   "outputs": [
    {
     "name": "stdout",
     "output_type": "stream",
     "text": [
      "moiz is punctual in office\n"
     ]
    }
   ],
   "source": [
    "emp1.attandance()"
   ]
  },
  {
   "cell_type": "code",
   "execution_count": null,
   "metadata": {},
   "outputs": [],
   "source": []
  }
 ],
 "metadata": {
  "kernelspec": {
   "display_name": "Python 3",
   "language": "python",
   "name": "python3"
  },
  "language_info": {
   "codemirror_mode": {
    "name": "ipython",
    "version": 3
   },
   "file_extension": ".py",
   "mimetype": "text/x-python",
   "name": "python",
   "nbconvert_exporter": "python",
   "pygments_lexer": "ipython3",
   "version": "3.8.5"
  }
 },
 "nbformat": 4,
 "nbformat_minor": 4
}
